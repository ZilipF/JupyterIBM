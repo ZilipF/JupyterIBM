{
  "nbformat": 4,
  "nbformat_minor": 0,
  "metadata": {
    "colab": {
      "provenance": [],
      "authorship_tag": "ABX9TyMZJ+8Sugx11mvT1+N99uba",
      "include_colab_link": true
    },
    "kernelspec": {
      "name": "python3",
      "display_name": "Python 3"
    },
    "language_info": {
      "name": "python"
    }
  },
  "cells": [
    {
      "cell_type": "markdown",
      "metadata": {
        "id": "view-in-github",
        "colab_type": "text"
      },
      "source": [
        "<a href=\"https://colab.research.google.com/github/ZilipF/JupyterIBM/blob/main/DataScienceEcosystem.ipynb\" target=\"_parent\"><img src=\"https://colab.research.google.com/assets/colab-badge.svg\" alt=\"Open In Colab\"/></a>"
      ]
    },
    {
      "cell_type": "markdown",
      "source": [
        "# Data Science Tools and Ecosystem"
      ],
      "metadata": {
        "id": "sco9o1_viowQ"
      }
    },
    {
      "cell_type": "markdown",
      "source": [
        "W tym notatniku podsumowane są narzędzia i ekosystemy Data Science."
      ],
      "metadata": {
        "id": "P_zYqZMtirj5"
      }
    },
    {
      "cell_type": "markdown",
      "source": [
        "Niektóre z popularnych języków, które używają Data Scientists, to:\n",
        "\n",
        "\n",
        "\n",
        "1. Python\n",
        "2. R\n",
        "3. SQL\n",
        "4. JUlia\n",
        "5. Scala\n",
        "\n",
        "\n",
        "\n",
        "\n",
        "\n"
      ],
      "metadata": {
        "id": "JzNpMJ3Hius_"
      }
    },
    {
      "cell_type": "markdown",
      "source": [
        "Niektóre z powszechnie używanych bibliotek przez Data Scientists to:\n",
        "1. Pandas\n",
        "2. NumPy\n",
        "3. Matpltlib\n",
        "4. TensorFlow"
      ],
      "metadata": {
        "id": "yv4xIFqjjQKt"
      }
    },
    {
      "cell_type": "markdown",
      "source": [
        "| Narzędzia Data Science        |\n",
        "|------------------------------|\n",
        "| Jupyter Notebook             |\n",
        "| RStudio                      |\n",
        "| Visual Studio Code (VS Code)|\n"
      ],
      "metadata": {
        "id": "_aKqqqcXjke5"
      }
    },
    {
      "cell_type": "markdown",
      "source": [
        "### Poniżej znajdują się przykłady oceny wyrażeń arytmetycznych w Pythonie.\n"
      ],
      "metadata": {
        "id": "r6g7RH3NkB25"
      }
    },
    {
      "cell_type": "code",
      "source": [
        "# To jest proste wyrażenie arytmetyczne do pomnożenia, a następnie dodania liczb całkowitych\n",
        "(3 * 4) + 5\n"
      ],
      "metadata": {
        "colab": {
          "base_uri": "https://localhost:8080/"
        },
        "id": "F_EUGwMwkfVv",
        "outputId": "b21c6112-df01-42c1-b0f9-881006f4dcfe"
      },
      "execution_count": null,
      "outputs": [
        {
          "output_type": "execute_result",
          "data": {
            "text/plain": [
              "17"
            ]
          },
          "metadata": {},
          "execution_count": 3
        }
      ]
    },
    {
      "cell_type": "code",
      "source": [
        "# To przeliczy 200 minut na godziny, dzieląc przez 60\n",
        "200 / 60\n"
      ],
      "metadata": {
        "colab": {
          "base_uri": "https://localhost:8080/"
        },
        "id": "3S8roIbMk2pZ",
        "outputId": "0455b008-b3fd-48ec-9f4f-166cce2218b7"
      },
      "execution_count": null,
      "outputs": [
        {
          "output_type": "execute_result",
          "data": {
            "text/plain": [
              "3.3333333333333335"
            ]
          },
          "metadata": {},
          "execution_count": 4
        }
      ]
    },
    {
      "cell_type": "markdown",
      "source": [
        "**Cele:**\n",
        "\n",
        "- Opisać możliwości języka R i jego zastosowania w Data Science  \n",
        "- Korzystać z interfejsu RStudio do uruchamiania kodów R  \n",
        "- Wymienić popularne pakiety R używane w analizie i wizualizacji danych  \n",
        "- Tworzyć wykresy w R za pomocą funkcji `plot` i `ggplot`  \n",
        "- Dostosowywać wykresy, dodając tytuły i zmieniając nazwy osi (`ggtitle`, `labs`)  \n",
        "- Zrozumieć koncepcję rozproszonego systemu kontroli wersji (DVCS) i jego rolę w pracy zespołowej nad kodem  \n"
      ],
      "metadata": {
        "id": "GFNAXzwglJlB"
      }
    },
    {
      "cell_type": "markdown",
      "source": [
        "## Autor\n",
        "\n",
        "Filip Zalewski"
      ],
      "metadata": {
        "id": "3TchIKrjlxgL"
      }
    }
  ]
}